{
 "cells": [
  {
   "cell_type": "markdown",
   "metadata": {},
   "source": [
    "# Likelihood Categorical Classification\n",
    "\n",
    "Colin Jemmott\n",
    "Aug, 2020 for UCSD\n",
    "\n",
    "## Goal\n",
    "\n",
    "For [Likelihood](https://github.com/gilpasternak35/Likelihood) figure out if a multiclass categorical classifier can help find data issues.\n",
    "\n",
    "Specifically, with [SDPD gradditi removal requests](https://data.sandiego.gov/datasets/gid-graffiti-removal/) I want to predict `case_origin`.\n",
    "\n",
    "## To Do\n",
    "\n",
    "- <s>Find some data to work with</s> \n",
    "- Chronological test-train split\n",
    "- Find a classifier that will do multiclass and probability as output.  Bonus points for explainability.\n",
    "- Get it working\n",
    "\n",
    "## Notes\n",
    "\n",
    "- There were some very rare events in the class labeles.  Dropped those since they would not be interesting for Likelihood.\n",
    "- Performance on *train* is (as expected) pretty bad: not enough features.  But the goal here is to find outliers in chronological split test set."
   ]
  },
  {
   "cell_type": "code",
   "execution_count": 1,
   "metadata": {},
   "outputs": [],
   "source": [
    "import pandas as pd\n",
    "from datetime import datetime, timedelta\n",
    "from sklearn.naive_bayes import CategoricalNB\n",
    "from sklearn.preprocessing import OrdinalEncoder\n",
    "from sklearn.metrics import plot_confusion_matrix\n",
    "import numpy as np"
   ]
  },
  {
   "cell_type": "code",
   "execution_count": 2,
   "metadata": {},
   "outputs": [],
   "source": [
    "# parameters\n",
    "trainRatio = 0.8"
   ]
  },
  {
   "cell_type": "markdown",
   "metadata": {},
   "source": [
    "## Get data"
   ]
  },
  {
   "cell_type": "code",
   "execution_count": 23,
   "metadata": {},
   "outputs": [
    {
     "data": {
      "text/html": [
       "<div>\n",
       "<style scoped>\n",
       "    .dataframe tbody tr th:only-of-type {\n",
       "        vertical-align: middle;\n",
       "    }\n",
       "\n",
       "    .dataframe tbody tr th {\n",
       "        vertical-align: top;\n",
       "    }\n",
       "\n",
       "    .dataframe thead th {\n",
       "        text-align: right;\n",
       "    }\n",
       "</style>\n",
       "<table border=\"1\" class=\"dataframe\">\n",
       "  <thead>\n",
       "    <tr style=\"text-align: right;\">\n",
       "      <th></th>\n",
       "      <th>service_request_id</th>\n",
       "      <th>service_request_parent_id</th>\n",
       "      <th>sap_notification_number</th>\n",
       "      <th>date_requested</th>\n",
       "      <th>case_age_days</th>\n",
       "      <th>service_name</th>\n",
       "      <th>case_record_type</th>\n",
       "      <th>date_updated</th>\n",
       "      <th>status</th>\n",
       "      <th>lat</th>\n",
       "      <th>lng</th>\n",
       "      <th>council_district</th>\n",
       "      <th>comm_plan_code</th>\n",
       "      <th>comm_plan_name</th>\n",
       "      <th>park_name</th>\n",
       "      <th>case_origin</th>\n",
       "      <th>referred</th>\n",
       "      <th>public_description</th>\n",
       "    </tr>\n",
       "  </thead>\n",
       "  <tbody>\n",
       "    <tr>\n",
       "      <th>0</th>\n",
       "      <td>80481</td>\n",
       "      <td>NaN</td>\n",
       "      <td>NaN</td>\n",
       "      <td>2016-05-20T05:06:00</td>\n",
       "      <td>0.0</td>\n",
       "      <td>Graffiti Removal</td>\n",
       "      <td>TSW</td>\n",
       "      <td>2016-05-20T00:00:00</td>\n",
       "      <td>Closed</td>\n",
       "      <td>32.726445</td>\n",
       "      <td>-117.125476</td>\n",
       "      <td>3.0</td>\n",
       "      <td>8.0</td>\n",
       "      <td>Greater Golden Hill</td>\n",
       "      <td>NaN</td>\n",
       "      <td>Mobile</td>\n",
       "      <td>NaN</td>\n",
       "      <td>Test</td>\n",
       "    </tr>\n",
       "    <tr>\n",
       "      <th>1</th>\n",
       "      <td>80495</td>\n",
       "      <td>NaN</td>\n",
       "      <td>1.500007e+11</td>\n",
       "      <td>2016-05-20T07:19:00</td>\n",
       "      <td>14.0</td>\n",
       "      <td>Graffiti Removal</td>\n",
       "      <td>TSW</td>\n",
       "      <td>2016-06-03T00:00:00</td>\n",
       "      <td>Closed</td>\n",
       "      <td>32.735047</td>\n",
       "      <td>-117.080075</td>\n",
       "      <td>4.0</td>\n",
       "      <td>57.0</td>\n",
       "      <td>Mid-City:Eastern Area</td>\n",
       "      <td>NaN</td>\n",
       "      <td>Phone</td>\n",
       "      <td>NaN</td>\n",
       "      <td>Graffiti on the wall in front of the library</td>\n",
       "    </tr>\n",
       "    <tr>\n",
       "      <th>2</th>\n",
       "      <td>80521</td>\n",
       "      <td>NaN</td>\n",
       "      <td>1.500007e+11</td>\n",
       "      <td>2016-05-20T09:50:00</td>\n",
       "      <td>256.0</td>\n",
       "      <td>Graffiti Removal</td>\n",
       "      <td>TSW</td>\n",
       "      <td>2017-01-31T00:00:00</td>\n",
       "      <td>Closed</td>\n",
       "      <td>32.742621</td>\n",
       "      <td>-117.113817</td>\n",
       "      <td>9.0</td>\n",
       "      <td>56.0</td>\n",
       "      <td>Mid-City:City Heights</td>\n",
       "      <td>NaN</td>\n",
       "      <td>Phone</td>\n",
       "      <td>NaN</td>\n",
       "      <td>graf- cinder block wall on the alley side  - 3...</td>\n",
       "    </tr>\n",
       "    <tr>\n",
       "      <th>3</th>\n",
       "      <td>80533</td>\n",
       "      <td>NaN</td>\n",
       "      <td>1.500007e+11</td>\n",
       "      <td>2016-05-20T11:07:00</td>\n",
       "      <td>256.0</td>\n",
       "      <td>Graffiti Removal</td>\n",
       "      <td>TSW</td>\n",
       "      <td>2017-01-31T00:00:00</td>\n",
       "      <td>Closed</td>\n",
       "      <td>32.676718</td>\n",
       "      <td>-117.065699</td>\n",
       "      <td>4.0</td>\n",
       "      <td>44.0</td>\n",
       "      <td>Skyline-Paradise Hills</td>\n",
       "      <td>NaN</td>\n",
       "      <td>Phone</td>\n",
       "      <td>NaN</td>\n",
       "      <td>Graffiti on wall facing alley</td>\n",
       "    </tr>\n",
       "    <tr>\n",
       "      <th>4</th>\n",
       "      <td>80538</td>\n",
       "      <td>NaN</td>\n",
       "      <td>1.500007e+11</td>\n",
       "      <td>2016-05-20T11:28:00</td>\n",
       "      <td>256.0</td>\n",
       "      <td>Graffiti Removal</td>\n",
       "      <td>TSW</td>\n",
       "      <td>2017-01-31T00:00:00</td>\n",
       "      <td>Closed</td>\n",
       "      <td>32.755220</td>\n",
       "      <td>-117.114725</td>\n",
       "      <td>3.0</td>\n",
       "      <td>59.0</td>\n",
       "      <td>Mid-City:Normal Heights</td>\n",
       "      <td>NaN</td>\n",
       "      <td>Phone</td>\n",
       "      <td>NaN</td>\n",
       "      <td>GRAFFITI ON BLOCK WALL IN ALLEY</td>\n",
       "    </tr>\n",
       "  </tbody>\n",
       "</table>\n",
       "</div>"
      ],
      "text/plain": [
       "   service_request_id  service_request_parent_id  sap_notification_number  \\\n",
       "0               80481                        NaN                      NaN   \n",
       "1               80495                        NaN             1.500007e+11   \n",
       "2               80521                        NaN             1.500007e+11   \n",
       "3               80533                        NaN             1.500007e+11   \n",
       "4               80538                        NaN             1.500007e+11   \n",
       "\n",
       "        date_requested  case_age_days      service_name case_record_type  \\\n",
       "0  2016-05-20T05:06:00            0.0  Graffiti Removal              TSW   \n",
       "1  2016-05-20T07:19:00           14.0  Graffiti Removal              TSW   \n",
       "2  2016-05-20T09:50:00          256.0  Graffiti Removal              TSW   \n",
       "3  2016-05-20T11:07:00          256.0  Graffiti Removal              TSW   \n",
       "4  2016-05-20T11:28:00          256.0  Graffiti Removal              TSW   \n",
       "\n",
       "          date_updated  status        lat         lng  council_district  \\\n",
       "0  2016-05-20T00:00:00  Closed  32.726445 -117.125476               3.0   \n",
       "1  2016-06-03T00:00:00  Closed  32.735047 -117.080075               4.0   \n",
       "2  2017-01-31T00:00:00  Closed  32.742621 -117.113817               9.0   \n",
       "3  2017-01-31T00:00:00  Closed  32.676718 -117.065699               4.0   \n",
       "4  2017-01-31T00:00:00  Closed  32.755220 -117.114725               3.0   \n",
       "\n",
       "   comm_plan_code           comm_plan_name park_name case_origin referred  \\\n",
       "0             8.0      Greater Golden Hill       NaN      Mobile      NaN   \n",
       "1            57.0    Mid-City:Eastern Area       NaN       Phone      NaN   \n",
       "2            56.0    Mid-City:City Heights       NaN       Phone      NaN   \n",
       "3            44.0   Skyline-Paradise Hills       NaN       Phone      NaN   \n",
       "4            59.0  Mid-City:Normal Heights       NaN       Phone      NaN   \n",
       "\n",
       "                                  public_description  \n",
       "0                                               Test  \n",
       "1       Graffiti on the wall in front of the library  \n",
       "2  graf- cinder block wall on the alley side  - 3...  \n",
       "3                      Graffiti on wall facing alley  \n",
       "4                    GRAFFITI ON BLOCK WALL IN ALLEY  "
      ]
     },
     "execution_count": 23,
     "metadata": {},
     "output_type": "execute_result"
    }
   ],
   "source": [
    "df = pd.read_csv(\"get_it_done_graffiti.csv\")\n",
    "df.head()"
   ]
  },
  {
   "cell_type": "code",
   "execution_count": 142,
   "metadata": {},
   "outputs": [],
   "source": [
    "# Drop rows with rare events.\n",
    "case_value_counts = df['case_origin'].value_counts()\n",
    "frequent_case_origin = case_value_counts[case_value_counts > 5000].index\n",
    "df = df[df['case_origin'].isin(frequent_case_origin)].copy(deep=True)"
   ]
  },
  {
   "cell_type": "markdown",
   "metadata": {},
   "source": [
    "## Feature Creation\n",
    "\n",
    "To predict `case_origin`:\n",
    "\n",
    "- `public_description` - none / short / long?\n",
    "- `comm_plan_name` - fillna\n",
    "- `status` - use as is"
   ]
  },
  {
   "cell_type": "code",
   "execution_count": 143,
   "metadata": {},
   "outputs": [],
   "source": [
    "# public_description: categorize word counts\n",
    "def wordCountCategory(wordCount):\n",
    "    if wordCount < 1:\n",
    "        return \"No Comment\"\n",
    "    elif wordCount < 10:\n",
    "        return \"Short Comment\"\n",
    "    else:\n",
    "        return \"Long\"\n",
    "\n",
    "df['public_description_no_null'] = df['public_description'].fillna(\"\")\n",
    "df['public_description_word_count'] = df['public_description_no_null'].str.split().str.len()\n",
    "\n",
    "df['word_count_category'] = df['public_description_word_count'].apply(wordCountCategory)"
   ]
  },
  {
   "cell_type": "code",
   "execution_count": 144,
   "metadata": {},
   "outputs": [],
   "source": [
    "df['comm_plan_name_no_null'] = df['comm_plan_name'].fillna(\"UNKNOWN\")"
   ]
  },
  {
   "cell_type": "markdown",
   "metadata": {},
   "source": [
    "## Test-Train split\n",
    "\n",
    "chronological split:\n",
    "\n",
    "1. Find the timestamp that splits the dataset\n",
    "2. Make train and test dataframes"
   ]
  },
  {
   "cell_type": "code",
   "execution_count": 145,
   "metadata": {},
   "outputs": [],
   "source": [
    "# Find the timestamp that splits the dataset\n",
    "ts = df['date_requested'].sort_values(ascending=False)\n",
    "tsIndex = np.floor(len(ts)*trainRatio)\n",
    "tsSplit = ts[tsIndex]\n",
    "\n",
    "# Create train and test dataframes\n",
    "trainDf = df[df['date_requested'] <= tsSplit]\n",
    "testDf = df[df['date_requested'] > tsSplit]"
   ]
  },
  {
   "cell_type": "markdown",
   "metadata": {},
   "source": [
    "## Ordinal Encoder\n",
    "\n",
    "[Ordinal Encoder](https://scikit-learn.org/stable/modules/generated/sklearn.preprocessing.OrdinalEncoder.html)\n",
    "\n",
    "Have to handle out of vocabulary issues for train/test split on ordinal encoder (new features in test).  Probably best to just drop them?"
   ]
  },
  {
   "cell_type": "code",
   "execution_count": 146,
   "metadata": {},
   "outputs": [],
   "source": [
    "feature_list = ['word_count_category','status','comm_plan_name_no_null']\n",
    "\n",
    "for feature in feature_list:\n",
    "    testDf = testDf[testDf[feature].isin(set(trainDf[feature]))]"
   ]
  },
  {
   "cell_type": "code",
   "execution_count": 147,
   "metadata": {},
   "outputs": [],
   "source": [
    "enc = OrdinalEncoder()\n",
    "# Fit on full dataframe\n",
    "_ = enc.fit(df[feature_list])\n",
    "train = enc.transform(trainDf[feature_list])\n",
    "test = enc.transform(testDf[feature_list])"
   ]
  },
  {
   "cell_type": "markdown",
   "metadata": {},
   "source": [
    "## Classifier: categorical Naive Bayes"
   ]
  },
  {
   "cell_type": "code",
   "execution_count": 148,
   "metadata": {},
   "outputs": [],
   "source": [
    "clf = CategoricalNB()\n",
    "\n",
    "_ = clf.fit(train,trainDf['case_origin'])"
   ]
  },
  {
   "cell_type": "markdown",
   "metadata": {},
   "source": [
    "## Performance on training set"
   ]
  },
  {
   "cell_type": "code",
   "execution_count": 150,
   "metadata": {},
   "outputs": [
    {
     "data": {
      "text/plain": [
       "<sklearn.metrics._plot.confusion_matrix.ConfusionMatrixDisplay at 0x24f6999d438>"
      ]
     },
     "execution_count": 150,
     "metadata": {},
     "output_type": "execute_result"
    },
    {
     "data": {
      "image/png": "[encoded data removed]",
      "text/plain": [
       "<Figure size 432x288 with 2 Axes>"
      ]
     },
     "metadata": {
      "needs_background": "light"
     },
     "output_type": "display_data"
    }
   ],
   "source": [
    "plot_confusion_matrix(clf, train,trainDf['case_origin'])"
   ]
  },
  {
   "cell_type": "markdown",
   "metadata": {},
   "source": [
    "## Test set performance"
   ]
  },
  {
   "cell_type": "code",
   "execution_count": 151,
   "metadata": {},
   "outputs": [
    {
     "data": {
      "text/plain": [
       "<sklearn.metrics._plot.confusion_matrix.ConfusionMatrixDisplay at 0x24f69ddfda0>"
      ]
     },
     "execution_count": 151,
     "metadata": {},
     "output_type": "execute_result"
    },
    {
     "data": {
      "image/png": "[encoded data removed]",
      "text/plain": [
       "<Figure size 432x288 with 2 Axes>"
      ]
     },
     "metadata": {
      "needs_background": "light"
     },
     "output_type": "display_data"
    }
   ],
   "source": [
    "plot_confusion_matrix(clf, test,testDf['case_origin'])"
   ]
  },
  {
   "cell_type": "markdown",
   "metadata": {},
   "source": [
    "## Goal: Likelihood!\n",
    "\n",
    "Identify the rows where the classifier does the worst. Hopefully that will help identify data issues.\n",
    "\n",
    "This code is bad - I ran out of time."
   ]
  },
  {
   "cell_type": "code",
   "execution_count": 152,
   "metadata": {},
   "outputs": [
    {
     "data": {
      "text/plain": [
       "array([0.3889784 , 0.54523866, 0.06578293])"
      ]
     },
     "execution_count": 152,
     "metadata": {},
     "output_type": "execute_result"
    }
   ],
   "source": []
  },
  {
   "cell_type": "code",
   "execution_count": 159,
   "metadata": {},
   "outputs": [],
   "source": [
    "case_origin = list(testDf['case_origin'])\n",
    "\n",
    "classDict = {}\n",
    "for ii in range(len(clf.classes_)):\n",
    "    classDict[clf.classes_[ii]] = ii \n",
    "\n",
    "caseIndex = []\n",
    "for caseName in case_origin:\n",
    "    caseIndex.append(classDict[caseName])"
   ]
  },
  {
   "cell_type": "code",
   "execution_count": 173,
   "metadata": {},
   "outputs": [],
   "source": [
    "# Next step: grab probability for each using the index\n",
    "# Then sort to find those with the lowest value (most surprise)\n",
    "\n",
    "clf.predict_proba(train)"
   ]
  },
  {
   "cell_type": "code",
   "execution_count": null,
   "metadata": {},
   "outputs": [],
   "source": []
  },
  {
   "cell_type": "code",
   "execution_count": null,
   "metadata": {},
   "outputs": [],
   "source": []
  },
  {
   "cell_type": "code",
   "execution_count": null,
   "metadata": {},
   "outputs": [],
   "source": []
  }
 ],
 "metadata": {
  "kernelspec": {
   "display_name": "Python 3",
   "language": "python",
   "name": "python3"
  },
  "language_info": {
   "codemirror_mode": {
    "name": "ipython",
    "version": 3
   },
   "file_extension": ".py",
   "mimetype": "text/x-python",
   "name": "python",
   "nbconvert_exporter": "python",
   "pygments_lexer": "ipython3",
   "version": "3.7.3"
  }
 },
 "nbformat": 4,
 "nbformat_minor": 2
}
